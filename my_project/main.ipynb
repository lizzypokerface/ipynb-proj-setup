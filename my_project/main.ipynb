{
 "cells": [
  {
   "cell_type": "markdown",
   "metadata": {},
   "source": [
    "# My Project\n",
    "\n",
    "Path to Python kernel: `./venv/bin/python`"
   ]
  },
  {
   "cell_type": "markdown",
   "metadata": {},
   "source": [
    "## Test Imports"
   ]
  },
  {
   "cell_type": "code",
   "execution_count": 1,
   "metadata": {},
   "outputs": [],
   "source": [
    "from shapes.shapes import Square, Circle, Rectangle"
   ]
  },
  {
   "cell_type": "code",
   "execution_count": 2,
   "metadata": {},
   "outputs": [
    {
     "data": {
      "text/plain": [
       "25"
      ]
     },
     "execution_count": 2,
     "metadata": {},
     "output_type": "execute_result"
    }
   ],
   "source": [
    "sq = Square(5)\n",
    "sq.area()"
   ]
  },
  {
   "cell_type": "code",
   "execution_count": 3,
   "metadata": {},
   "outputs": [
    {
     "data": {
      "text/plain": [
       "78.53981633974483"
      ]
     },
     "execution_count": 3,
     "metadata": {},
     "output_type": "execute_result"
    }
   ],
   "source": [
    "ci = Circle(5)\n",
    "ci.area()"
   ]
  },
  {
   "cell_type": "code",
   "execution_count": 4,
   "metadata": {},
   "outputs": [
    {
     "data": {
      "text/plain": [
       "50"
      ]
     },
     "execution_count": 4,
     "metadata": {},
     "output_type": "execute_result"
    }
   ],
   "source": [
    "re = Rectangle(5, 10)\n",
    "re.area()"
   ]
  },
  {
   "cell_type": "markdown",
   "metadata": {},
   "source": [
    "## Test Logging"
   ]
  },
  {
   "cell_type": "code",
   "execution_count": 5,
   "metadata": {},
   "outputs": [
    {
     "name": "stderr",
     "output_type": "stream",
     "text": [
      "2024-06-05 22:29:31,720 - __main__ - DEBUG - This is a debug message\n",
      "2024-06-05 22:29:31,721 - __main__ - INFO - This is an info message\n",
      "2024-06-05 22:29:31,722 - __main__ - WARNING - This is a warning message\n",
      "2024-06-05 22:29:31,722 - __main__ - ERROR - This is an error message\n",
      "2024-06-05 22:29:31,723 - __main__ - CRITICAL - This is a critical message\n"
     ]
    }
   ],
   "source": [
    "import logging\n",
    "\n",
    "# Creating a logger\n",
    "logger = logging.getLogger(__name__)\n",
    "\n",
    "# Configuring the logging system\n",
    "logging.basicConfig(\n",
    "    level=logging.DEBUG, format=\"%(asctime)s - %(name)s - %(levelname)s - %(message)s\"\n",
    ")\n",
    "\n",
    "# Logging messages at different levels\n",
    "logger.debug(\"This is a debug message\")\n",
    "logger.info(\"This is an info message\")\n",
    "logger.warning(\"This is a warning message\")\n",
    "logger.error(\"This is an error message\")\n",
    "logger.critical(\"This is a critical message\")"
   ]
  },
  {
   "cell_type": "markdown",
   "metadata": {},
   "source": [
    "## Test Yaml"
   ]
  },
  {
   "cell_type": "code",
   "execution_count": 6,
   "metadata": {},
   "outputs": [
    {
     "name": "stdout",
     "output_type": "stream",
     "text": [
      "Project Name: My Project\n",
      "Project Version: 1.0.0\n",
      "Python Kernel Path: ./venv/bin/python\n",
      "Data Directory: ./data\n",
      "Debug Mode: True\n",
      "Max Retries: 5\n"
     ]
    }
   ],
   "source": [
    "import yaml\n",
    "\n",
    "\n",
    "# Function to read YAML file\n",
    "def read_yaml(file_path):\n",
    "    with open(file_path, \"r\") as file:\n",
    "        return yaml.safe_load(file)\n",
    "\n",
    "\n",
    "# Read the YAML configuration file\n",
    "config = read_yaml(\"config.yaml\")\n",
    "\n",
    "# Extract values into variables\n",
    "project_name = config[\"project\"][\"name\"]\n",
    "project_version = config[\"project\"][\"version\"]\n",
    "\n",
    "python_kernel_path = config[\"paths\"][\"python_kernel\"]\n",
    "data_directory = config[\"paths\"][\"data_dir\"]\n",
    "\n",
    "debug_mode = config[\"settings\"][\"debug\"]\n",
    "max_retries = config[\"settings\"][\"max_retries\"]\n",
    "\n",
    "# Print variables to verify\n",
    "print(f\"Project Name: {project_name}\")\n",
    "print(f\"Project Version: {project_version}\")\n",
    "print(f\"Python Kernel Path: {python_kernel_path}\")\n",
    "print(f\"Data Directory: {data_directory}\")\n",
    "print(f\"Debug Mode: {debug_mode}\")\n",
    "print(f\"Max Retries: {max_retries}\")"
   ]
  },
  {
   "cell_type": "markdown",
   "metadata": {},
   "source": [
    "## Test writing to temporary folder"
   ]
  },
  {
   "cell_type": "code",
   "execution_count": 7,
   "metadata": {},
   "outputs": [
    {
     "name": "stdout",
     "output_type": "stream",
     "text": [
      "Data has been written to tmp/data.csv\n"
     ]
    }
   ],
   "source": [
    "import csv\n",
    "import os\n",
    "\n",
    "# Ensure the 'tmp' directory exists\n",
    "os.makedirs(\"tmp\", exist_ok=True)\n",
    "\n",
    "# Define the CSV file path\n",
    "csv_file_path = os.path.join(\"tmp\", \"data.csv\")\n",
    "\n",
    "# Create some made-up data\n",
    "data = [\n",
    "    [\"Name\", \"Age\", \"City\"],\n",
    "    [\"Alice\", 30, \"New York\"],\n",
    "    [\"Bob\", 25, \"Los Angeles\"],\n",
    "    [\"Charlie\", 35, \"Chicago\"],\n",
    "    [\"David\", 40, \"Houston\"],\n",
    "    [\"Eve\", 22, \"Phoenix\"],\n",
    "]\n",
    "\n",
    "# Write the data to the CSV file\n",
    "with open(csv_file_path, \"w\", newline=\"\") as csv_file:\n",
    "    writer = csv.writer(csv_file)\n",
    "    writer.writerows(data)\n",
    "\n",
    "print(f\"Data has been written to {csv_file_path}\")"
   ]
  }
 ],
 "metadata": {
  "kernelspec": {
   "display_name": "venv",
   "language": "python",
   "name": "python3"
  },
  "language_info": {
   "codemirror_mode": {
    "name": "ipython",
    "version": 3
   },
   "file_extension": ".py",
   "mimetype": "text/x-python",
   "name": "python",
   "nbconvert_exporter": "python",
   "pygments_lexer": "ipython3",
   "version": "3.10.13"
  }
 },
 "nbformat": 4,
 "nbformat_minor": 2
}
