{
 "cells": [
  {
   "cell_type": "markdown",
   "metadata": {},
   "source": [
    "# My Project\n",
    "\n",
    "Path to Python kernel: `./venv/bin/python`"
   ]
  },
  {
   "cell_type": "markdown",
   "metadata": {},
   "source": [
    "## Test Imports"
   ]
  },
  {
   "cell_type": "code",
   "execution_count": 1,
   "metadata": {},
   "outputs": [],
   "source": [
    "# Import functions\n",
    "from my_functions.my_functions import add, divide, multiply"
   ]
  },
  {
   "cell_type": "code",
   "execution_count": 2,
   "metadata": {},
   "outputs": [
    {
     "name": "stderr",
     "output_type": "stream",
     "text": [
      "2024-06-08 22:23:30,114 - my_functions.my_functions - DEBUG - Called add(2, 3)\n",
      "2024-06-08 22:23:30,115 - my_functions.my_functions - DEBUG - Result of add: 5\n"
     ]
    },
    {
     "data": {
      "text/plain": [
       "5"
      ]
     },
     "execution_count": 2,
     "metadata": {},
     "output_type": "execute_result"
    }
   ],
   "source": [
    "add(2, 3)"
   ]
  },
  {
   "cell_type": "code",
   "execution_count": 3,
   "metadata": {},
   "outputs": [
    {
     "name": "stderr",
     "output_type": "stream",
     "text": [
      "2024-06-08 22:23:30,123 - my_functions.my_functions - DEBUG - Called multiply(2, 3)\n",
      "2024-06-08 22:23:30,124 - my_functions.my_functions - DEBUG - Result of multiply: 6\n"
     ]
    },
    {
     "data": {
      "text/plain": [
       "6"
      ]
     },
     "execution_count": 3,
     "metadata": {},
     "output_type": "execute_result"
    }
   ],
   "source": [
    "multiply(2, 3)"
   ]
  },
  {
   "cell_type": "code",
   "execution_count": 4,
   "metadata": {},
   "outputs": [
    {
     "name": "stderr",
     "output_type": "stream",
     "text": [
      "2024-06-08 22:23:30,133 - my_functions.my_functions - DEBUG - Called divide(2, 3)\n",
      "2024-06-08 22:23:30,134 - my_functions.my_functions - DEBUG - Result of divide: 0.6666666666666666\n"
     ]
    },
    {
     "data": {
      "text/plain": [
       "0.6666666666666666"
      ]
     },
     "execution_count": 4,
     "metadata": {},
     "output_type": "execute_result"
    }
   ],
   "source": [
    "divide(2, 3)"
   ]
  },
  {
   "cell_type": "code",
   "execution_count": 5,
   "metadata": {},
   "outputs": [],
   "source": [
    "# Import classes\n",
    "from shapes.shapes import Circle, Rectangle, Square"
   ]
  },
  {
   "cell_type": "code",
   "execution_count": 6,
   "metadata": {},
   "outputs": [
    {
     "name": "stderr",
     "output_type": "stream",
     "text": [
      "2024-06-08 22:23:30,155 - shapes.shapes - DEBUG - Square created with length: 5\n",
      "2024-06-08 22:23:30,157 - shapes.shapes - DEBUG - Calculating area for Square with length 5: 25\n"
     ]
    },
    {
     "data": {
      "text/plain": [
       "25"
      ]
     },
     "execution_count": 6,
     "metadata": {},
     "output_type": "execute_result"
    }
   ],
   "source": [
    "sq = Square(5)\n",
    "sq.area()"
   ]
  },
  {
   "cell_type": "code",
   "execution_count": 7,
   "metadata": {},
   "outputs": [
    {
     "name": "stderr",
     "output_type": "stream",
     "text": [
      "2024-06-08 22:23:30,168 - shapes.shapes - DEBUG - Circle created with radius: 5\n",
      "2024-06-08 22:23:30,173 - shapes.shapes - DEBUG - Calculating area for Circle with radius 5: 78.53981633974483\n"
     ]
    },
    {
     "data": {
      "text/plain": [
       "78.53981633974483"
      ]
     },
     "execution_count": 7,
     "metadata": {},
     "output_type": "execute_result"
    }
   ],
   "source": [
    "ci = Circle(5)\n",
    "ci.area()"
   ]
  },
  {
   "cell_type": "code",
   "execution_count": 8,
   "metadata": {},
   "outputs": [
    {
     "name": "stderr",
     "output_type": "stream",
     "text": [
      "2024-06-08 22:23:30,182 - shapes.shapes - DEBUG - Rectangle created with length: 5 and width: 10\n",
      "2024-06-08 22:23:30,183 - shapes.shapes - DEBUG - Calculating area for Rectangle with length 5 and width 10: 50\n"
     ]
    },
    {
     "data": {
      "text/plain": [
       "50"
      ]
     },
     "execution_count": 8,
     "metadata": {},
     "output_type": "execute_result"
    }
   ],
   "source": [
    "re = Rectangle(5, 10)\n",
    "re.area()"
   ]
  },
  {
   "cell_type": "markdown",
   "metadata": {},
   "source": [
    "## Test Logging"
   ]
  },
  {
   "cell_type": "code",
   "execution_count": 9,
   "metadata": {},
   "outputs": [
    {
     "name": "stderr",
     "output_type": "stream",
     "text": [
      "2024-06-08 22:23:30,192 - __main__ - DEBUG - This is a debug message\n",
      "2024-06-08 22:23:30,194 - __main__ - INFO - This is an info message\n",
      "2024-06-08 22:23:30,195 - __main__ - WARNING - This is a warning message\n",
      "2024-06-08 22:23:30,197 - __main__ - ERROR - This is an error message\n",
      "2024-06-08 22:23:30,197 - __main__ - CRITICAL - This is a critical message\n"
     ]
    }
   ],
   "source": [
    "import logging\n",
    "\n",
    "# Creating a logger\n",
    "logger = logging.getLogger(__name__)\n",
    "\n",
    "# Configuring the logging system\n",
    "logging.basicConfig(\n",
    "    level=logging.DEBUG, format=\"%(asctime)s - %(name)s - %(levelname)s - %(message)s\"\n",
    ")\n",
    "\n",
    "# Logging messages at different levels\n",
    "logger.debug(\"This is a debug message\")\n",
    "logger.info(\"This is an info message\")\n",
    "logger.warning(\"This is a warning message\")\n",
    "logger.error(\"This is an error message\")\n",
    "logger.critical(\"This is a critical message\")"
   ]
  },
  {
   "cell_type": "markdown",
   "metadata": {},
   "source": [
    "## Test Yaml"
   ]
  },
  {
   "cell_type": "code",
   "execution_count": 10,
   "metadata": {},
   "outputs": [
    {
     "name": "stdout",
     "output_type": "stream",
     "text": [
      "Project Name: My Project\n",
      "Project Version: 1.0.0\n",
      "Python Kernel Path: ./venv/bin/python\n",
      "Data Directory: ./data\n",
      "Debug Mode: True\n",
      "Max Retries: 5\n"
     ]
    }
   ],
   "source": [
    "import yaml\n",
    "\n",
    "\n",
    "# Function to read YAML file\n",
    "def read_yaml(file_path):\n",
    "    with open(file_path) as file:\n",
    "        return yaml.safe_load(file)\n",
    "\n",
    "\n",
    "# Read the YAML configuration file\n",
    "config = read_yaml(\"config.yaml\")\n",
    "\n",
    "# Extract values into variables\n",
    "project_name = config[\"project\"][\"name\"]\n",
    "project_version = config[\"project\"][\"version\"]\n",
    "\n",
    "python_kernel_path = config[\"paths\"][\"python_kernel\"]\n",
    "data_directory = config[\"paths\"][\"data_dir\"]\n",
    "\n",
    "debug_mode = config[\"settings\"][\"debug\"]\n",
    "max_retries = config[\"settings\"][\"max_retries\"]\n",
    "\n",
    "# Print variables to verify\n",
    "print(f\"Project Name: {project_name}\")\n",
    "print(f\"Project Version: {project_version}\")\n",
    "print(f\"Python Kernel Path: {python_kernel_path}\")\n",
    "print(f\"Data Directory: {data_directory}\")\n",
    "print(f\"Debug Mode: {debug_mode}\")\n",
    "print(f\"Max Retries: {max_retries}\")"
   ]
  },
  {
   "cell_type": "markdown",
   "metadata": {},
   "source": [
    "## Test Pause Execution"
   ]
  },
  {
   "cell_type": "code",
   "execution_count": 11,
   "metadata": {},
   "outputs": [
    {
     "name": "stderr",
     "output_type": "stream",
     "text": [
      "2024-06-08 22:23:30,293 - __main__ - INFO - Execution paused\n"
     ]
    },
    {
     "ename": "PauseExecutionError",
     "evalue": "Execution paused due to an intentional pause.",
     "output_type": "error",
     "traceback": [
      "\u001b[0;31m---------------------------------------------------------------------------\u001b[0m",
      "\u001b[0;31mPauseExecutionError\u001b[0m                       Traceback (most recent call last)",
      "Cell \u001b[0;32mIn[11], line 10\u001b[0m\n\u001b[1;32m      6\u001b[0m     \u001b[38;5;28;01mraise\u001b[39;00m PauseExecutionError(\u001b[38;5;124m\"\u001b[39m\u001b[38;5;124mExecution paused due to an intentional pause.\u001b[39m\u001b[38;5;124m\"\u001b[39m)\n\u001b[1;32m      9\u001b[0m logger\u001b[38;5;241m.\u001b[39minfo(\u001b[38;5;124m\"\u001b[39m\u001b[38;5;124mExecution paused\u001b[39m\u001b[38;5;124m\"\u001b[39m)\n\u001b[0;32m---> 10\u001b[0m \u001b[43mpause_execution\u001b[49m\u001b[43m(\u001b[49m\u001b[43m)\u001b[49m\n",
      "Cell \u001b[0;32mIn[11], line 6\u001b[0m, in \u001b[0;36mpause_execution\u001b[0;34m()\u001b[0m\n\u001b[1;32m      5\u001b[0m \u001b[38;5;28;01mdef\u001b[39;00m \u001b[38;5;21mpause_execution\u001b[39m():\n\u001b[0;32m----> 6\u001b[0m     \u001b[38;5;28;01mraise\u001b[39;00m PauseExecutionError(\u001b[38;5;124m\"\u001b[39m\u001b[38;5;124mExecution paused due to an intentional pause.\u001b[39m\u001b[38;5;124m\"\u001b[39m)\n",
      "\u001b[0;31mPauseExecutionError\u001b[0m: Execution paused due to an intentional pause."
     ]
    }
   ],
   "source": [
    "class PauseExecutionError(Exception):\n",
    "    pass\n",
    "\n",
    "\n",
    "def pause_execution():\n",
    "    raise PauseExecutionError(\"Execution paused due to an intentional pause.\")\n",
    "\n",
    "\n",
    "logger.info(\"Execution paused\")\n",
    "pause_execution()"
   ]
  },
  {
   "cell_type": "markdown",
   "metadata": {},
   "source": [
    "## Test Writing to Temporary Folder"
   ]
  },
  {
   "cell_type": "code",
   "execution_count": 12,
   "metadata": {},
   "outputs": [
    {
     "name": "stdout",
     "output_type": "stream",
     "text": [
      "Data has been written to tmp/data.csv\n"
     ]
    }
   ],
   "source": [
    "import csv\n",
    "import os\n",
    "\n",
    "# Ensure the 'tmp' directory exists\n",
    "os.makedirs(\"tmp\", exist_ok=True)\n",
    "\n",
    "# Define the CSV file path\n",
    "csv_file_path = os.path.join(\"tmp\", \"data.csv\")\n",
    "\n",
    "# Create some made-up data\n",
    "data = [\n",
    "    [\"Name\", \"Age\", \"City\"],\n",
    "    [\"Alice\", 30, \"New York\"],\n",
    "    [\"Bob\", 25, \"Los Angeles\"],\n",
    "    [\"Charlie\", 35, \"Chicago\"],\n",
    "    [\"David\", 40, \"Houston\"],\n",
    "    [\"Eve\", 22, \"Phoenix\"],\n",
    "]\n",
    "\n",
    "# Write the data to the CSV file\n",
    "with open(csv_file_path, \"w\", newline=\"\") as csv_file:\n",
    "    writer = csv.writer(csv_file)\n",
    "    writer.writerows(data)\n",
    "\n",
    "print(f\"Data has been written to {csv_file_path}\")"
   ]
  },
  {
   "cell_type": "markdown",
   "metadata": {},
   "source": [
    "## Test Calling Entry Point"
   ]
  },
  {
   "cell_type": "code",
   "execution_count": 13,
   "metadata": {},
   "outputs": [
    {
     "name": "stderr",
     "output_type": "stream",
     "text": [
      "2024-06-08 22:23:41,048 - main - INFO - Reading YAML file from config.yaml\n",
      "2024-06-08 22:23:41,050 - main - DEBUG - YAML data: {'project': {'name': 'My Project', 'version': '1.0.0'}, 'paths': {'python_kernel': './venv/bin/python', 'data_dir': './data'}, 'settings': {'debug': True, 'max_retries': 5}}\n",
      "2024-06-08 22:23:41,051 - main - INFO - Project Name: My Project\n",
      "2024-06-08 22:23:41,051 - main - INFO - Project Version: 1.0.0\n",
      "2024-06-08 22:23:41,052 - main - INFO - Python Kernel Path: ./venv/bin/python\n",
      "2024-06-08 22:23:41,052 - main - INFO - Data Directory: ./data\n",
      "2024-06-08 22:23:41,052 - main - INFO - Debug Mode: True\n",
      "2024-06-08 22:23:41,053 - main - INFO - Max Retries: 5\n",
      "2024-06-08 22:23:41,054 - main - INFO - 'tmp' directory is ensured to exist\n",
      "2024-06-08 22:23:41,055 - main - INFO - Data has been written to tmp/data.csv\n",
      "2024-06-08 22:23:41,056 - main - DEBUG - Testing add function\n",
      "2024-06-08 22:23:41,056 - my_functions.my_functions - DEBUG - Called add(2, 3)\n",
      "2024-06-08 22:23:41,056 - my_functions.my_functions - DEBUG - Called add(2, 3)\n",
      "2024-06-08 22:23:41,057 - my_functions.my_functions - DEBUG - Result of add: 5\n",
      "2024-06-08 22:23:41,057 - my_functions.my_functions - DEBUG - Result of add: 5\n",
      "2024-06-08 22:23:41,057 - main - INFO - add(2, 3) = 5\n",
      "2024-06-08 22:23:41,058 - main - DEBUG - Testing multiply function\n",
      "2024-06-08 22:23:41,058 - my_functions.my_functions - DEBUG - Called multiply(2, 3)\n",
      "2024-06-08 22:23:41,058 - my_functions.my_functions - DEBUG - Called multiply(2, 3)\n",
      "2024-06-08 22:23:41,059 - my_functions.my_functions - DEBUG - Result of multiply: 6\n",
      "2024-06-08 22:23:41,059 - my_functions.my_functions - DEBUG - Result of multiply: 6\n",
      "2024-06-08 22:23:41,059 - main - INFO - multiply(2, 3) = 6\n",
      "2024-06-08 22:23:41,060 - main - DEBUG - Testing divide function\n",
      "2024-06-08 22:23:41,061 - my_functions.my_functions - DEBUG - Called divide(2, 3)\n",
      "2024-06-08 22:23:41,061 - my_functions.my_functions - DEBUG - Called divide(2, 3)\n",
      "2024-06-08 22:23:41,062 - my_functions.my_functions - DEBUG - Result of divide: 0.6666666666666666\n",
      "2024-06-08 22:23:41,062 - my_functions.my_functions - DEBUG - Result of divide: 0.6666666666666666\n",
      "2024-06-08 22:23:41,063 - main - INFO - divide(2, 3) = 0.6666666666666666\n",
      "2024-06-08 22:23:41,063 - main - DEBUG - Testing Square class\n",
      "2024-06-08 22:23:41,064 - shapes.shapes - DEBUG - Square created with length: 5\n",
      "2024-06-08 22:23:41,064 - shapes.shapes - DEBUG - Square created with length: 5\n",
      "2024-06-08 22:23:41,064 - shapes.shapes - DEBUG - Calculating area for Square with length 5: 25\n",
      "2024-06-08 22:23:41,064 - shapes.shapes - DEBUG - Calculating area for Square with length 5: 25\n",
      "2024-06-08 22:23:41,066 - main - INFO - Square(5).area() = 25\n",
      "2024-06-08 22:23:41,066 - main - DEBUG - Testing Circle class\n",
      "2024-06-08 22:23:41,067 - shapes.shapes - DEBUG - Circle created with radius: 5\n",
      "2024-06-08 22:23:41,067 - shapes.shapes - DEBUG - Circle created with radius: 5\n",
      "2024-06-08 22:23:41,070 - shapes.shapes - DEBUG - Calculating area for Circle with radius 5: 78.53981633974483\n",
      "2024-06-08 22:23:41,070 - shapes.shapes - DEBUG - Calculating area for Circle with radius 5: 78.53981633974483\n",
      "2024-06-08 22:23:41,071 - main - INFO - Circle(5).area() = 78.53981633974483\n",
      "2024-06-08 22:23:41,071 - main - DEBUG - Testing Rectangle class\n",
      "2024-06-08 22:23:41,071 - shapes.shapes - DEBUG - Rectangle created with length: 5 and width: 10\n",
      "2024-06-08 22:23:41,071 - shapes.shapes - DEBUG - Rectangle created with length: 5 and width: 10\n",
      "2024-06-08 22:23:41,072 - shapes.shapes - DEBUG - Calculating area for Rectangle with length 5 and width 10: 50\n",
      "2024-06-08 22:23:41,072 - shapes.shapes - DEBUG - Calculating area for Rectangle with length 5 and width 10: 50\n",
      "2024-06-08 22:23:41,072 - main - INFO - Rectangle(5, 10).area() = 50\n"
     ]
    }
   ],
   "source": [
    "from main import run\n",
    "\n",
    "run()"
   ]
  }
 ],
 "metadata": {
  "kernelspec": {
   "display_name": "venv",
   "language": "python",
   "name": "python3"
  },
  "language_info": {
   "codemirror_mode": {
    "name": "ipython",
    "version": 3
   },
   "file_extension": ".py",
   "mimetype": "text/x-python",
   "name": "python",
   "nbconvert_exporter": "python",
   "pygments_lexer": "ipython3",
   "version": "3.10.14"
  }
 },
 "nbformat": 4,
 "nbformat_minor": 2
}
